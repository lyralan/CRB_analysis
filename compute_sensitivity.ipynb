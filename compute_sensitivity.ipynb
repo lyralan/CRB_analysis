{
 "cells": [
  {
   "cell_type": "code",
   "execution_count": 2,
   "metadata": {},
   "outputs": [],
   "source": [
    "import numpy as np\n",
    "import xarray as xr\n",
    "from u import *\n",
    "from scipy.io import savemat\n",
    "import xesmf as xe\n",
    "import os\n",
    "import xbpch\n",
    "from tqdm import tqdm\n",
    "import warnings; warnings.filterwarnings(\"ignore\")\n",
    "%matplotlib inline\n",
    "import matplotlib.pyplot as plt\n",
    "from matplotlib.ticker import NullLocator\n",
    "import cartopy\n",
    "import cartopy.crs as ccrs\n",
    "import cartopy.feature as cfeature\n",
    "from cartopy.io.shapereader import Reader\n",
    "from cartopy.feature import ShapelyFeature"
   ]
  },
  {
   "cell_type": "markdown",
   "metadata": {},
   "source": [
    "# Get sensitivity"
   ]
  },
  {
   "cell_type": "code",
   "execution_count": 3,
   "metadata": {},
   "outputs": [],
   "source": [
    "base_path = Path('/net/d07/data/rlan/from_d05/gcadj_std/output')\n",
    "base_name = '/net/d07/data/rlan/from_d05/gcadj_std/output/'"
   ]
  },
  {
   "cell_type": "code",
   "execution_count": 3,
   "metadata": {},
   "outputs": [
    {
     "name": "stdout",
     "output_type": "stream",
     "text": [
      "2007 01 01 0000\n",
      "2008 01 01 0000\n",
      "2009 01 01 0000\n",
      "2010 01 01 0000\n",
      "2012 01 01 0000\n",
      "2013 01 01 0000\n"
     ]
    }
   ],
   "source": [
    "def get_ymd(path):\n",
    "    yrmndt = path.split('.')[2]\n",
    "    year = yrmndt[:4]\n",
    "    month = yrmndt[4:6]\n",
    "    date = yrmndt[6:]\n",
    "    hour = path.split('.')[3]\n",
    "    return year, month, date, hour\n",
    "\n",
    "years = ['2007','2009','2012']\n",
    "for year in years:\n",
    "    paths = os.listdir(base_path/f'{year}_whole'/'diagadj')\n",
    "    paths = [x for x in paths if x.startswith('gctm')]\n",
    "    if year == '2009':\n",
    "        for path in sorted(paths)[531:532]:\n",
    "            year, month, date, hour = get_ymd(path)\n",
    "            print(year, month, date, hour)\n",
    "    else:\n",
    "        for path in sorted(paths)[744:745]:\n",
    "            year, month, date, hour = get_ymd(path)\n",
    "            print(year, month, date, hour)\n",
    "\n",
    "    for path in sorted(paths)[-720:-719]:\n",
    "        year, month, date, hour = get_ymd(path)\n",
    "        print(year, month, date, hour)"
   ]
  },
  {
   "cell_type": "code",
   "execution_count": 24,
   "metadata": {},
   "outputs": [
    {
     "name": "stderr",
     "output_type": "stream",
     "text": [
      "100%|██████████| 8760/8760 [2:13:16<00:00,  1.10it/s]  \n"
     ]
    }
   ],
   "source": [
    "BCs = []\n",
    "OCs = []\n",
    "sens_path = Path('/home/rlan/sensitivity/')\n",
    "target = ['BCPI', 'BCPO', 'OCPI', 'OCPO']\n",
    "for year in years:\n",
    "    paths = os.listdir(base_path/f'{year}_whole'/'diagadj')\n",
    "    paths = [x for x in paths if x.startswith('gctm')]\n",
    "    for path in tqdm(sorted(paths)[531:-720]):\n",
    "        fn_path = base_name + f'{year}_whole' + '/diagadj/' + path\n",
    "        tracer = os.path.join(base_name + f'{year}_whole','tracerinfo.dat')\n",
    "        diag = os.path.join(base_name + f'{year}_whole','diaginfo.dat')\n",
    "        ds = xbpch.open_bpchdataset(fn_path,tracerinfo_file=tracer,diaginfo_file=diag, fields=target)\n",
    "        BC = ds.isel(lev=0).IJ_ADJ_S_BCPI + ds.isel(lev=0).IJ_ADJ_S_BCPO\n",
    "        BCs.append(np.array(BC))\n",
    "        OC = ds.isel(lev=0).IJ_ADJ_S_OCPI + ds.isel(lev=0).IJ_ADJ_S_OCPO\n",
    "        OCs.append(np.array(OC))\n",
    "    sens_BC = np.array(BCs) \n",
    "    sens_OC = np.array(OCs)\n",
    "\n",
    "    sens = sens_BC + 2.1 * sens_OC\n",
    "    sens = xr.DataArray(sens)\n",
    "    sens.to_netcdf(sensitivity/f'sens_{year}.nc')"
   ]
  },
  {
   "cell_type": "markdown",
   "metadata": {},
   "source": [
    "# Regrid sensitivity and agrregate by 24 hour"
   ]
  },
  {
   "cell_type": "code",
   "execution_count": 4,
   "metadata": {},
   "outputs": [],
   "source": [
    "target = ['BCPI', 'BCPO', 'OCPI', 'OCPO']\n",
    "base_name = '/net/d07/data/rlan/from_d05/gcadj_std/output/'\n",
    "fn_path = base_name + f'{2007}_whole' + '/diagadj/' + 'gctm.adj.20080130.2300'\n",
    "tracer = os.path.join(base_name + f'{2007}_whole','tracerinfo.dat')\n",
    "diag = os.path.join(base_name + f'{2007}_whole','diaginfo.dat')\n",
    "ds = xbpch.open_bpchdataset(fn_path,tracerinfo_file=tracer,diaginfo_file=diag, fields=target)"
   ]
  },
  {
   "cell_type": "code",
   "execution_count": 5,
   "metadata": {},
   "outputs": [],
   "source": [
    "ds.close()"
   ]
  },
  {
   "cell_type": "code",
   "execution_count": 6,
   "metadata": {},
   "outputs": [],
   "source": [
    "ds_in = ds\n",
    "nested_grid_with_bounds = {'lon': np.arange(ds_in.lon[0], ds_in.lon[-1], 0.1),\n",
    "                           'lat': np.arange(ds_in.lat[0], ds_in.lat[-1], 0.1),\n",
    "                           'lon_b': np.arange(ds_in.lon[0]-0.1/2, ds_in.lon[-1]+0.1/2, 0.1),\n",
    "                           'lat_b': np.arange(ds_in.lat[0]-0.1/2, ds_in.lat[-1]+0.1/2, 0.1),\n",
    "                          }\n",
    "\n",
    "global_grid_with_bounds = {'lon': ds_in['lon'].values,\n",
    "                           'lat': ds_in['lat'].values,\n",
    "                           'lon_b': np.arange(ds_in.lon[0]-2/3/2, ds_in.lon[-1]+2/3/2, 2/3),\n",
    "                           'lat_b': np.arange(ds_in.lat[0]-0.5/2, ds_in.lat[-1]+0.5, 0.5), \n",
    "                          }\n",
    "\n",
    "regridder_conserve = xe.Regridder(global_grid_with_bounds, nested_grid_with_bounds, method='conservative')"
   ]
  },
  {
   "cell_type": "code",
   "execution_count": 98,
   "metadata": {},
   "outputs": [
    {
     "data": {
      "text/plain": [
       "(660,)"
      ]
     },
     "execution_count": 98,
     "metadata": {},
     "output_type": "execute_result"
    }
   ],
   "source": [
    "nested_grid_with_bounds['lat'].shape"
   ]
  },
  {
   "cell_type": "markdown",
   "metadata": {},
   "source": [
    "# 3d"
   ]
  },
  {
   "cell_type": "code",
   "execution_count": 45,
   "metadata": {},
   "outputs": [],
   "source": [
    "factor = (660*801)/(121*133)\n",
    "sens_path = Path('/home/rlan/sensitivity/')\n",
    "for year in years:\n",
    "    ds = xr.open_dataset(sens_path / f'sens_{year}.nc')\n",
    "    ds_in = ds['__xarray_dataarray_variable__']\n",
    "    days = int(ds_in.shape[0] / 24)\n",
    "    ds_out = []\n",
    "    for day in range(0,days):\n",
    "        ds_temp = []\n",
    "        for hour in range(0,24):\n",
    "            ds_temp.append(ds_in.isel(dim_0= day*24 + hour))\n",
    "        ds_temp = np.array(ds_temp).mean(axis=0) / factor\n",
    "        ds_temp = xr.DataArray(ds_temp)\n",
    "        ds_out.append(regridder_conserve(ds_temp.T))\n",
    "    ds_out = xr.DataArray(ds_out)\n",
    "    ds_out.to_netcdf(sens_path / f'gridded_sens_{year}.nc')\n"
   ]
  },
  {
   "cell_type": "code",
   "execution_count": 79,
   "metadata": {},
   "outputs": [
    {
     "data": {
      "text/plain": [
       "<matplotlib.collections.QuadMesh at 0x7f55e59e6550>"
      ]
     },
     "execution_count": 79,
     "metadata": {},
     "output_type": "execute_result"
    },
    {
     "data": {
      "image/png": "[encoded data removed]",
      "text/plain": [
       "<Figure size 432x288 with 2 Axes>"
      ]
     },
     "metadata": {
      "needs_background": "light"
     },
     "output_type": "display_data"
    }
   ],
   "source": [
    "ds_out[dict(dim_0=1,dim_2=slice(0,301),dim_1=slice(160,511))].plot()"
   ]
  },
  {
   "cell_type": "code",
   "execution_count": 74,
   "metadata": {},
   "outputs": [
    {
     "data": {
      "text/plain": [
       "<matplotlib.collections.QuadMesh at 0x7f55e5bd3880>"
      ]
     },
     "execution_count": 74,
     "metadata": {},
     "output_type": "execute_result"
    },
    {
     "data": {
      "image/png": "[encoded data removed]",
      "text/plain": [
       "<Figure size 432x288 with 2 Axes>"
      ]
     },
     "metadata": {
      "needs_background": "light"
     },
     "output_type": "display_data"
    }
   ],
   "source": [
    "ds_in[dict(dim_0=1,dim_1=slice(0,45),dim_2=slice(33,104))].plot()"
   ]
  },
  {
   "cell_type": "markdown",
   "metadata": {},
   "source": [
    "# 4d"
   ]
  },
  {
   "cell_type": "code",
   "execution_count": 13,
   "metadata": {},
   "outputs": [],
   "source": [
    "factor = (660*801)/(121*133)\n",
    "sens_path = Path('/home/rlan/sensitivity/')\n",
    "for year in [2007, 2009, 2012]:\n",
    "    ds = xr.open_dataset(sens_path / f'sens_{year}.nc')\n",
    "    ds_in = ds['__xarray_dataarray_variable__']\n",
    "    days = int(ds_in.shape[0] / 24)\n",
    "    ds_out = []\n",
    "    for day in range(91,152):\n",
    "        ds_day = []\n",
    "        for hour in range(0,24):\n",
    "            temp = regridder_conserve(ds_in.isel(dim_0=day*24 + hour).T)\n",
    "            s = temp.sel(lat=slice(5.05, 40.1), lon=slice(70, 100.1)) \n",
    "            ds_day.append(s)\n",
    "        ds_day = np.array(ds_day) / factor\n",
    "        ds_day = xr.DataArray(ds_day)\n",
    "        ds_out.append(ds_day)\n",
    "    ds_out = xr.DataArray(ds_out)\n",
    "    ds_out.to_netcdf(sens_path / f'gridded_sens_{year}_4d_pre_monsoon.nc')\n",
    "    ds.close()\n"
   ]
  },
  {
   "cell_type": "code",
   "execution_count": 12,
   "metadata": {},
   "outputs": [
    {
     "data": {
      "text/plain": [
       "(61, 24, 351, 301)"
      ]
     },
     "execution_count": 12,
     "metadata": {},
     "output_type": "execute_result"
    }
   ],
   "source": [
    "ds_out.shape"
   ]
  },
  {
   "cell_type": "code",
   "execution_count": 14,
   "metadata": {},
   "outputs": [],
   "source": [
    "factor = (660*801)/(121*133)\n",
    "sens_path = Path('/home/rlan/sensitivity/')\n",
    "for year in [2007, 2009, 2012]:\n",
    "    ds = xr.open_dataset(sens_path / f'sens_{year}.nc')\n",
    "    ds_in = ds['__xarray_dataarray_variable__']\n",
    "    days = int(ds_in.shape[0] / 24)\n",
    "    ds_out = []\n",
    "    for day in range(274,335):\n",
    "        ds_day = []\n",
    "        for hour in range(0,24):\n",
    "            temp = regridder_conserve(ds_in.isel(dim_0=day*24 + hour).T)\n",
    "            s = temp.sel(lat=slice(5.05, 40.1), lon=slice(70, 100.1)) \n",
    "            ds_day.append(s)\n",
    "        ds_day = np.array(ds_day) / factor\n",
    "        ds_day = xr.DataArray(ds_day)\n",
    "        ds_out.append(ds_day)\n",
    "    ds_out = xr.DataArray(ds_out)\n",
    "    ds_out.to_netcdf(sens_path / f'gridded_sens_{year}_4d_post_monsoon.nc')\n",
    "    ds.close()\n"
   ]
  },
  {
   "cell_type": "code",
   "execution_count": 18,
   "metadata": {},
   "outputs": [],
   "source": [
    "for year in [2007, 2009, 2012]:\n",
    "    ds = xr.open_dataset(sens_path / f'gridded_sens_{year}_4d_post_monsoon.nc')\n",
    "    sens = ds['__xarray_dataarray_variable__']\n",
    "    sens = np.array(sens)\n",
    "    savemat(sens_path / f'gridded_sens_{year}_4d_post_monsoon.mat', mdict={'sens_4d': sens})"
   ]
  },
  {
   "cell_type": "code",
   "execution_count": 19,
   "metadata": {},
   "outputs": [],
   "source": [
    "for year in [2007, 2009, 2012]:\n",
    "    ds = xr.open_dataset(sens_path / f'gridded_sens_{year}_4d_pre_monsoon.nc')\n",
    "    sens = ds['__xarray_dataarray_variable__']\n",
    "    sens = np.array(sens)\n",
    "    savemat(sens_path / f'gridded_sens_{year}_4d_pre_monsoon.mat', mdict={'sens_4d': sens})"
   ]
  },
  {
   "cell_type": "code",
   "execution_count": 21,
   "metadata": {},
   "outputs": [
    {
     "data": {
      "text/plain": [
       "(61, 24, 351, 301)"
      ]
     },
     "execution_count": 21,
     "metadata": {},
     "output_type": "execute_result"
    }
   ],
   "source": [
    "sens.shape"
   ]
  },
  {
   "cell_type": "code",
   "execution_count": null,
   "metadata": {},
   "outputs": [],
   "source": []
  }
 ],
 "metadata": {
  "kernelspec": {
   "display_name": "gc",
   "language": "python",
   "name": "gc"
  },
  "language_info": {
   "codemirror_mode": {
    "name": "ipython",
    "version": 3
   },
   "file_extension": ".py",
   "mimetype": "text/x-python",
   "name": "python",
   "nbconvert_exporter": "python",
   "pygments_lexer": "ipython3",
   "version": "3.8.10"
  }
 },
 "nbformat": 4,
 "nbformat_minor": 4
}
