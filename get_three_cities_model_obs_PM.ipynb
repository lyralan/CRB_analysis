{
 "cells": [
  {
   "cell_type": "code",
   "execution_count": 4,
   "metadata": {},
   "outputs": [],
   "source": [
    "%matplotlib inline\n",
    "import matplotlib.pyplot as plt\n",
    "from matplotlib.ticker import NullLocator\n",
    "import cartopy\n",
    "import cartopy.crs as ccrs\n",
    "import cartopy.feature as cfeature\n",
    "from cartopy.io.shapereader import Reader\n",
    "from cartopy.feature import ShapelyFeature\n",
    "import numpy as np\n",
    "import sys\n",
    "import xarray as xr\n",
    "from u import *\n",
    "import pandas as pd"
   ]
  },
  {
   "cell_type": "code",
   "execution_count": 5,
   "metadata": {},
   "outputs": [],
   "source": [
    "base_on = Path('/net/d07/data/rlan/from_hex/GC13_output/nested_on')\n",
    "base_off = Path('/net/d07/data/rlan/from_hex/GC13_output/nested_off')"
   ]
  },
  {
   "cell_type": "code",
   "execution_count": 12,
   "metadata": {},
   "outputs": [],
   "source": [
    "# New Delhi 28.6139° N, 77.2090° E \n",
    "def delhi(file,lon_num):\n",
    "    ds = xr.open_dataset(file).isel(lev=0,lat=79,lon=lon_num)\n",
    "    ds = 2*ds['SpeciesConc_OCPO'] + 2*ds['SpeciesConc_OCPI'] + ds['SpeciesConc_BCPO'] + ds['SpeciesConc_BCPI']\n",
    "    return ds[0]\n",
    "\n",
    "def get_files(path):\n",
    "    arr = path.glob('*0000z.nc4')\n",
    "    files = sorted(arr)\n",
    "    return files\n",
    "\n",
    "model_PM = []\n",
    "for year in range(1997,2020):\n",
    "    path_on = base_on / f'{year}' / 'Output_daily' \n",
    "    path_off = base_off / f'{year}' / 'Output_daily' \n",
    "    files_on = get_files(path_on)\n",
    "    files_off = get_files(path_off)\n",
    "    factor = 24e+6 / 22.4 / 0.001\n",
    "    for file_on, file_off in zip(files_on, files_off):\n",
    "        PM_on = factor * (delhi(file_on,27) + delhi(file_on,28)) /2\n",
    "        PM_off = factor * (delhi(file_off,27) +delhi(file_off,28)) /2\n",
    "        diff = PM_on - PM_off\n",
    "        ymd = file_on.split('.')[2]\n",
    "        model_PM.append([int(ymd[:4]), int(ymd[4:6]),int(ymd[6:8]), np.array(PM_on).item(),np.array(PM_off).item(),np.array(diff).item()])\n",
    "\n",
    "df_delhi = pd.DataFrame(model_PM,columns=['Year', 'Month', 'Day', 'PM25_agri_on','PM25_agri_off','diff'])\n",
    "df_delhi.to_csv(f'/home/rlan/GC13/three_cities/delhi_model_23yr.csv')"
   ]
  },
  {
   "cell_type": "code",
   "execution_count": 17,
   "metadata": {},
   "outputs": [],
   "source": [
    "# mumbai 19.0760° N, 72.8777° E\n",
    "def mumbai(file,lon_num):\n",
    "    ds = xr.open_dataset(file).isel(lev=0,lat=60,lon=lon_num)\n",
    "    ds = 2*ds['SpeciesConc_OCPO'] + 2*ds['SpeciesConc_OCPI'] + ds['SpeciesConc_BCPO'] + ds['SpeciesConc_BCPI']\n",
    "    return ds[0]\n",
    "\n",
    "model_PM = []\n",
    "for year in range(1997,2020):\n",
    "    path_on = base_on / f'{year}' / 'Output_daily' \n",
    "    path_off = base_off / f'{year}' / 'Output_daily' \n",
    "    files_on = get_files(path_on)\n",
    "    files_off = get_files(path_off)\n",
    "    factor = 24e+6 / 22.4 / 0.001\n",
    "    for file_on, file_off in zip(files_on, files_off):\n",
    "        PM_on = factor * (mumbai(file_on,21) + mumbai(file_on,20)) / 2\n",
    "        PM_off = factor * (mumbai(file_off,21) + mumbai(file_off,20)) / 2\n",
    "        diff = PM_on - PM_off\n",
    "        ymd = file_on.split('.')[2]\n",
    "        model_PM.append([int(ymd[:4]), int(ymd[4:6]),int(ymd[6:8]), np.array(PM_on).item(),np.array(PM_off).item(),np.array(diff).item()])\n",
    "\n",
    "df_mumbai = pd.DataFrame(model_PM,columns=['Year', 'Month', 'Day', 'PM25_agri_on','PM25_agri_off','diff'])\n",
    "df_mumbai.to_csv(f'/home/rlan/GC13/three_cities/mumbai_model_PM_23yr.csv')"
   ]
  },
  {
   "cell_type": "code",
   "execution_count": 18,
   "metadata": {},
   "outputs": [],
   "source": [
    "# chennai 13.0827° N, 80.2707° E\n",
    "def chennai(file, lon_num):\n",
    "    ds = xr.open_dataset(file).isel(lev=0,lat=48,lon=lon_num)\n",
    "    ds = 2*ds['SpeciesConc_OCPO'] + 2*ds['SpeciesConc_OCPI'] + ds['SpeciesConc_BCPO'] + ds['SpeciesConc_BCPI']\n",
    "    return ds[0]\n",
    "\n",
    "model_PM = []\n",
    "for year in range(1997,2020):\n",
    "    path_on = base_on / f'{year}' / 'Output_daily' \n",
    "    path_off = base_off / f'{year}' / 'Output_daily' \n",
    "    files_on = get_files(path_on)\n",
    "    files_off = get_files(path_off)\n",
    "    factor = 24e+6 / 22.4 / 0.001\n",
    "    for file_on, file_off in zip(files_on, files_off):\n",
    "        PM_on = factor * (chennai(file_on,32) + chennai(file_on,33)) / 2\n",
    "        PM_off = factor * (chennai(file_off,32) + chennai(file_off,33)) / 2\n",
    "        diff = PM_on - PM_off\n",
    "        ymd = file_on.split('.')[2]\n",
    "        model_PM.append([int(ymd[:4]), int(ymd[4:6]),int(ymd[6:8]), np.array(PM_on).item(),np.array(PM_off).item(),np.array(diff).item()])\n",
    "\n",
    "df_chennai = pd.DataFrame(model_PM,columns=['Year', 'Month', 'Day', 'PM25_agri_on','PM25_agri_off','diff'])\n",
    "df_chennai.to_csv(f'/home/rlan/GC13/three_cities/chennai_model_PM_23yr.csv')"
   ]
  },
  {
   "cell_type": "code",
   "execution_count": 19,
   "metadata": {},
   "outputs": [],
   "source": [
    "df_oct = df_delhi.loc[df_delhi['Month'].isin([10])].groupby(['Year']).mean()\n",
    "df_oct.to_csv(f'/home/rlan/GC13/three_cities/delhi_model_PM_oct_23yr.csv')\n",
    "df_nov = df_delhi.loc[df_delhi['Month'].isin([11])].groupby(['Year']).mean()\n",
    "df_nov.to_csv(f'/home/rlan/GC13/three_cities/delhi_model_PM_nov_23yr.csv')\n",
    "df_annual = df_delhi.groupby(['Year']).mean()\n",
    "df_annual.to_csv(f'/home/rlan/GC13/three_cities/delhi_model_PM_annual_23yr.csv')"
   ]
  },
  {
   "cell_type": "code",
   "execution_count": 20,
   "metadata": {},
   "outputs": [],
   "source": [
    "df_oct = df_mumbai.loc[df_mumbai['Month'].isin([10])].groupby(['Year']).mean()\n",
    "df_oct.to_csv(f'/home/rlan/GC13/three_cities/mumbai_model_PM_oct_23yr.csv')\n",
    "df_nov = df_mumbai.loc[df_mumbai['Month'].isin([11])].groupby(['Year']).mean()\n",
    "df_nov.to_csv(f'/home/rlan/GC13/three_cities/mumbai_model_PM_nov_23yr.csv')\n",
    "df_annual = df_mumbai.groupby(['Year']).mean()\n",
    "df_annual.to_csv(f'/home/rlan/GC13/three_cities/mumbai_model_PM_annual_23yr.csv')"
   ]
  },
  {
   "cell_type": "code",
   "execution_count": 21,
   "metadata": {},
   "outputs": [],
   "source": [
    "df_oct = df_chennai.loc[df_chennai['Month'].isin([10])].groupby(['Year']).mean()\n",
    "df_oct.to_csv(f'/home/rlan/GC13/three_cities/chennai_model_PM_oct_23yr.csv')\n",
    "df_nov = df_chennai.loc[df_chennai['Month'].isin([11])].groupby(['Year']).mean()\n",
    "df_nov.to_csv(f'/home/rlan/GC13/three_cities/chennai_model_PM_nov_23yr.csv')\n",
    "df_annual = df_chennai.groupby(['Year']).mean()\n",
    "df_annual.to_csv(f'/home/rlan/GC13/three_cities/chennai_model_PM_annual_23yr.csv')"
   ]
  },
  {
   "cell_type": "code",
   "execution_count": 28,
   "metadata": {},
   "outputs": [],
   "source": [
    "for year in range(2018,2020):\n",
    "    df = df_delhi.loc[df_delhi['Year'] == year]\n",
    "    df.to_csv(f'/home/rlan/GC13/three_cities/delhi_model_PM_{year}.csv')\n",
    "    df = df_mumbai.loc[df_mumbai['Year'] == year]\n",
    "    df.to_csv(f'/home/rlan/GC13/three_cities/mumbai_model_PM_{year}.csv')\n",
    "    df = df_chennai.loc[df_chennai['Year'] == year]\n",
    "    df.to_csv(f'/home/rlan/GC13/three_cities/chennai_model_PM_{year}.csv')"
   ]
  },
  {
   "cell_type": "code",
   "execution_count": null,
   "metadata": {},
   "outputs": [],
   "source": []
  }
 ],
 "metadata": {
  "kernelspec": {
   "display_name": "gc",
   "language": "python",
   "name": "gc"
  },
  "language_info": {
   "codemirror_mode": {
    "name": "ipython",
    "version": 3
   },
   "file_extension": ".py",
   "mimetype": "text/x-python",
   "name": "python",
   "nbconvert_exporter": "python",
   "pygments_lexer": "ipython3",
   "version": "3.8.10"
  }
 },
 "nbformat": 4,
 "nbformat_minor": 4
}
